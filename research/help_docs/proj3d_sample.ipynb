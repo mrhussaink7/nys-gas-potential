{
 "cells": [
  {
   "cell_type": "markdown",
   "id": "4360ce42-12da-4f7d-aa2f-34fef5b6d001",
   "metadata": {},
   "source": [
    "# Example Kriding3D Project"
   ]
  },
  {
   "cell_type": "markdown",
   "id": "60ecfb6f-6bfa-4480-aec4-066ecfeafcd6",
   "metadata": {},
   "source": [
    "## Step 1: Install required libraries"
   ]
  },
  {
   "cell_type": "code",
   "execution_count": 8,
   "id": "6f3c7494-56db-4ba9-8be2-abb69add2208",
   "metadata": {},
   "outputs": [],
   "source": [
    "# conda install numpy pandas matplotlib scikit-learn pykrige skgstat streamlit rasterio pyproj tensorflow"
   ]
  },
  {
   "cell_type": "markdown",
   "id": "31fed78e-0e26-4123-9fe9-b9349a743acb",
   "metadata": {},
   "source": [
    "## Step 2: Import required libraries"
   ]
  },
  {
   "cell_type": "code",
   "execution_count": 9,
   "id": "06fd6386",
   "metadata": {},
   "outputs": [],
   "source": [
    "import numpy as np\n",
    "import pandas as pd\n",
    "import matplotlib.pyplot as plt\n",
    "from skgstat import Variogram\n",
    "from pykrige.ok3d import OrdinaryKriging3D\n",
    "from sklearn.model_selection import train_test_split, KFold\n",
    "from sklearn.preprocessing import StandardScaler\n",
    "import streamlit as st\n",
    "import rasterio\n",
    "import pyproj\n",
    "from tensorflow.keras import layers, models"
   ]
  },
  {
   "cell_type": "markdown",
   "id": "8315aac6-4c30-4665-a647-11b44161c16a",
   "metadata": {},
   "source": [
    "## Step 3Load Data"
   ]
  },
  {
   "cell_type": "code",
   "execution_count": 10,
   "id": "38c1d1f0",
   "metadata": {},
   "outputs": [
    {
     "name": "stdout",
     "output_type": "stream",
     "text": [
      "       API_WellNo  Cnty  Hole_x  SideTrck_x  Completion_x         Well_Name  \\\n",
      "0  31003659250000     3   65925           0             0    A&F Oil Co. 10   \n",
      "1  31009661340000     9   66134           0             0           Kurty 7   \n",
      "2  31003678950000     3   67895           0             0  J&R Oil Lot 8 22   \n",
      "3  31003680490000     3   68049           0             0          Ewell 22   \n",
      "4  31009224270000     9   22427           0             0        Yoder, A.2   \n",
      "\n",
      "                        Company_name  Operator_number Well_Type Map_Symbol  \\\n",
      "0  Simon of Bolivar Enterprises Inc.             1335        OD         OW   \n",
      "1                  Stephan Philip D.              566        OD         OW   \n",
      "2               Sturdevant Walter B.             1483        OD         OW   \n",
      "3       Sam Koehler Enterprises Inc.             2997        OD         OW   \n",
      "4            Empire Energy E & P LLC             2544        GD         GW   \n",
      "\n",
      "   ...          Field Wl_Status           Well_Nm      town_y      Prod Form  \\\n",
      "0  ...       Richburg        IN    A&F Oil Co. 10     Genesee       Richburg   \n",
      "1  ...       Bradford        IN           Kurty 7    Allegany       Bradford   \n",
      "2  ...       Richburg        UL  J&R Oil Lot 8 22     Bolivar       Richburg   \n",
      "3  ...  Fulmer Valley        IN          Ewell 22  Wellsville  Fulmer Valley   \n",
      "4  ...      Lakeshore        AC        Yoder, A.2        Leon         Medina   \n",
      "\n",
      "  MonthProd GasProd WaterProd OilProd    Year  \n",
      "0       2.0     0.0       5.0     1.0  2016.0  \n",
      "1      12.0     NaN       0.0     1.0  2005.0  \n",
      "2       0.0     NaN       0.0     0.0  2004.0  \n",
      "3       0.0     0.0       0.0     0.0  2018.0  \n",
      "4      11.0   752.0       0.0     0.0  2013.0  \n",
      "\n",
      "[5 rows x 71 columns]\n"
     ]
    }
   ],
   "source": [
    "# Load the dataset\n",
    "data = pd.read_csv('df_merged_wells_sample.csv')\n",
    "\n",
    "# Display the first few rows to inspect the data\n",
    "print(data.head())"
   ]
  },
  {
   "cell_type": "markdown",
   "id": "641c480b-201e-4dea-b0e2-322f46b697cb",
   "metadata": {},
   "source": [
    "## Step 4: Data Preprocessing\n",
    "1. Handle Missing Values: Check for missing values and decide on an appropriate strategy (drop or fill).\n",
    "2. Outlier Detection and Handling: Identify and potentially handle outliers in the gas_production field.\n",
    "3. Encoding Features and Feature Scaling: Scale features if necessary (e.g. categorical features transform with label encoding and: x, y, vertical_depth)."
   ]
  },
  {
   "cell_type": "code",
   "execution_count": null,
   "id": "c9dfdbca-338c-4b8c-ba4e-15dd5c90064b",
   "metadata": {},
   "outputs": [],
   "source": [
    "# Check for missing values\n",
    "print(data.isnull().sum())\n",
    "\n",
    "# Drop rows with missing values (or fill with appropriate values if necessary)\n",
    "data = data.dropna()\n",
    "\n",
    "# Visualize outliers using a boxplot\n",
    "plt.figure()\n",
    "plt.boxplot(data['GasProd'])\n",
    "plt.title('Boxplot for Gas Production')\n",
    "plt.show()\n",
    "\n",
    "# Optionally, handle outliers (e.g., clipping or removing them)\n",
    "# data['gas_production'] = np.clip(data['gas_production'], lower_bound, upper_bound)\n",
    "# Inspect the data types to identify categorical variables\n",
    "print(data.dtypes)\n",
    "\n",
    "# Assuming we have a categorical variable called 'category_column'\n",
    "# Perform one-hot encoding for categorical variables\n",
    "\n",
    "# Identify categorical columns\n",
    "categorical_columns = data.select_dtypes(include=['object', 'category']).columns\n",
    "\n",
    "# One-hot encode the categorical columns\n",
    "data = pd.get_dummies(data, columns=categorical_columns, drop_first=True)\n",
    "\n",
    "# Alternatively, if using label encoding\n",
    "from sklearn.preprocessing import LabelEncoder\n",
    "\n",
    "label_encoders = {}\n",
    "for col in categorical_columns:\n",
    "    le = LabelEncoder()\n",
    "    data[col] = le.fit_transform(data[col])\n",
    "    label_encoders[col] = le  # Store the encoder for inverse_transform if needed\n",
    "\n",
    "# Scale features\n",
    "scaler = StandardScaler()\n",
    "data[['x', 'y', 'vertical_depth']] = scaler.fit_transform(data[['x', 'y', 'vertical_depth']])"
   ]
  },
  {
   "cell_type": "markdown",
   "id": "c7ca9565-cf0d-48fa-a67e-264f76caff32",
   "metadata": {},
   "source": [
    "## Step 5: Split the Data into Training and Testing Sets"
   ]
  },
  {
   "cell_type": "code",
   "execution_count": null,
   "id": "de75d13b",
   "metadata": {},
   "outputs": [],
   "source": [
    "train, test = train_test_split(data, test_size=0.2, random_state=42)"
   ]
  },
  {
   "cell_type": "markdown",
   "id": "f8d44ec5-2736-4ea5-ba65-8d8f9aeede0a",
   "metadata": {},
   "source": [
    "## Step 6: Compute the Variogram\n",
    "We will calculate the variogram for the 3D coordinates (x, y, vertical_depth) against the target gas_production."
   ]
  },
  {
   "cell_type": "code",
   "execution_count": null,
   "id": "94945df8-bb0c-46b4-a47e-8bd7f8dba134",
   "metadata": {},
   "outputs": [],
   "source": [
    "coordinates = train[['x', 'y', 'vertical_depth']].values\n",
    "values = train['gas_production'].values\n",
    "\n",
    "# Create a 3D Variogram instance\n",
    "variogram = Variogram(coordinates, values, model='spherical', n_lags=20)\n",
    "variogram.plot()"
   ]
  },
  {
   "cell_type": "markdown",
   "id": "a9e1cb27-7485-4694-b23c-a827d31cd6a6",
   "metadata": {},
   "source": [
    "## Step 7: Perform Ordinary 3D Kriging\n",
    "Using the variogram, we'll perform 3D Kriging to predict gas production in the test data."
   ]
  },
  {
   "cell_type": "code",
   "execution_count": null,
   "id": "0aa8ff47-5201-416f-a8ee-ea7cb57bc45e",
   "metadata": {},
   "outputs": [],
   "source": [
    "# Set up the Ordinary Kriging 3D model\n",
    "ok3d = OrdinaryKriging3D(\n",
    "    train['x'].values, train['y'].values, train['vertical_depth'].values, train['gas_production'].values, \n",
    "    variogram_model='spherical'\n",
    ")\n",
    "\n",
    "# Get coordinates for prediction (from test set)\n",
    "test_coordinates = test[['x', 'y', 'vertical_depth']].values\n",
    "\n",
    "# Perform Kriging\n",
    "predicted_values, variance = ok3d.execute('points', test['x'].values, test['y'].values, test['vertical_depth'].values)"
   ]
  },
  {
   "cell_type": "markdown",
   "id": "d5904e27-1811-4d06-8c9c-2735410d655c",
   "metadata": {},
   "source": [
    "## Step 8: Evaluate the Model\n",
    "Let's calculate the Root Mean Squared Error (RMSE) to evaluate the performance of the Kriging model."
   ]
  },
  {
   "cell_type": "code",
   "execution_count": null,
   "id": "ea972415-b697-429a-8a80-2ea2c4a52e0d",
   "metadata": {},
   "outputs": [],
   "source": [
    "# Add the predicted values to the test set\n",
    "test['predicted_gas_production'] = predicted_values\n",
    "\n",
    "# Calculate RMSE\n",
    "rmse = np.sqrt(np.mean((test['gas_production'] - test['predicted_gas_production'])**2))\n",
    "print(f'RMSE: {rmse:.4f}')"
   ]
  },
  {
   "cell_type": "markdown",
   "id": "55e414c4-e480-4248-a521-10c6642583d8",
   "metadata": {},
   "source": [
    "## Step 9: Create an Interpolation Grid\n",
    "We'll create a grid over the 3D space of the wells to interpolate the gas production values."
   ]
  },
  {
   "cell_type": "code",
   "execution_count": null,
   "id": "bd4f30f8-89de-40f4-a402-7cb72bdcdb79",
   "metadata": {},
   "outputs": [],
   "source": [
    "# Define grid for interpolation\n",
    "grid_x, grid_y, grid_z = np.meshgrid(\n",
    "    np.linspace(data['x'].min(), data['x'].max(), 50),\n",
    "    np.linspace(data['y'].min(), data['y'].max(), 50),\n",
    "    np.linspace(data['vertical_depth'].min(), data['vertical_depth'].max(), 50)\n",
    ")\n",
    "\n",
    "# Perform Kriging over the grid\n",
    "interpolated_values, grid_variance = ok3d.execute('grid', grid_x, grid_y, grid_z)"
   ]
  },
  {
   "cell_type": "markdown",
   "id": "b2ee23a0-c6db-4c31-8d0a-f03a0bad4dcb",
   "metadata": {},
   "source": [
    "## Step 10: Visualize the Results\n",
    "We can visualize the interpolation results using 2D cross-sections from the 3D grid."
   ]
  },
  {
   "cell_type": "code",
   "execution_count": null,
   "id": "40f9ed31-4dab-4e4c-8f3e-9f50bd7a40f8",
   "metadata": {},
   "outputs": [],
   "source": [
    "# Visualizing a cross-section of the 3D Kriging result\n",
    "plt.figure(figsize=(10, 6))\n",
    "\n",
    "plt.subplot(1, 2, 1)\n",
    "plt.contourf(grid_x[:, :, 25], grid_y[:, :, 25], interpolated_values[:, :, 25], cmap='viridis')\n",
    "plt.colorbar(label='Interpolated Gas Production')\n",
    "plt.title('Cross-section of Kriging Interpolation at Depth Level 25')\n",
    "\n",
    "plt.subplot(1, 2, 2)\n",
    "plt.contourf(grid_x[:, :, 25], grid_y[:, :, 25], grid_variance[:, :, 25], cmap='plasma')\n",
    "plt.colorbar(label='Kriging Variance')\n",
    "plt.title('Cross-section of Kriging Variance at Depth Level 25')\n",
    "\n",
    "plt.show()\n"
   ]
  },
  {
   "cell_type": "markdown",
   "id": "e48f9a60-9f21-42a4-8510-77afba11601a",
   "metadata": {},
   "source": [
    "## Step 11: Save the Results\n",
    "Save the interpolated values and variance for later use."
   ]
  },
  {
   "cell_type": "code",
   "execution_count": null,
   "id": "daf0bf1c-a575-4ce9-b65d-9fda833b34c4",
   "metadata": {},
   "outputs": [],
   "source": [
    "# Save the interpolated values and variance\n",
    "np.save('interpolated_values_3d.npy', interpolated_values)\n",
    "np.save('grid_variance_3d.npy', grid_variance)\n",
    "\n",
    "# Save plots as images\n",
    "plt.savefig('kriging_3d_interpolation.png')\n",
    "plt.savefig('kriging_3d_variance.png')\n"
   ]
  },
  {
   "cell_type": "markdown",
   "id": "4e5ee3de-d460-4144-b3c3-7aa44fae37e6",
   "metadata": {},
   "source": [
    "## Step 12: Documentation and Reporting\n",
    "Prepare a detailed report that documents the following:\n",
    "\n",
    "- Introduction: Overview of the project, objectives, and methodology.\n",
    "- Data Description: Discuss the dataset, including preprocessing steps.\n",
    "- Methodology: Explain the Kriging process, variogram modeling, and interpolation.\n",
    "- Results: Present the RMSE, cross-validation results, and visualizations.\n",
    "- Conclusion: Summarize the findings, discuss the implications, and suggest potential applications."
   ]
  },
  {
   "cell_type": "markdown",
   "id": "730b6a51-f9b9-4b69-b681-b960cad2c07a",
   "metadata": {},
   "source": [
    "## Step 13: Cross-Validation and Model Validation\n",
    "Perform cross-validation to evaluate the stability and generalizability of the Kriging model."
   ]
  },
  {
   "cell_type": "code",
   "execution_count": null,
   "id": "35fc186e-3809-4fb3-bb73-12d8a528db63",
   "metadata": {},
   "outputs": [],
   "source": [
    "kf = KFold(n_splits=5, shuffle=True, random_state=42)\n",
    "rmse_scores = []\n",
    "\n",
    "for train_index, test_index in kf.split(data):\n",
    "    train_cv, test_cv = data.iloc[train_index], data.iloc[test_index]\n",
    "    coordinates_cv = train_cv[['x', 'y', 'vertical_depth']].values\n",
    "    values_cv = train_cv['gas_production'].values\n",
    "    \n",
    "    variogram_cv = Variogram(coordinates_cv, values_cv, model='spherical')\n",
    "    ok3d_cv = OrdinaryKriging3D(variogram_cv)\n",
    "    \n",
    "    test_coordinates_cv = test_cv[['x', 'y', 'vertical_depth']].values\n",
    "    predicted_values_cv, _ = ok3d_cv.execute('points', test_cv['x'].values, test_cv['y'].values, test_cv['vertical_depth'].values)\n",
    "    \n",
    "    rmse_cv = np.sqrt(np.mean((test_cv['gas_production'] - predicted_values_cv)**2))\n",
    "    rmse_scores.append(rmse_cv)\n",
    "\n",
    "print(f'Cross-validated RMSE: {np.mean(rmse_scores):.4f} ± {np.std(rmse_scores):.4f}')\n"
   ]
  },
  {
   "cell_type": "markdown",
   "id": "d311ee20-c573-4192-a454-b4cfdc3de604",
   "metadata": {},
   "source": [
    "## Step 14: Uncertainty Analysis\n",
    "Analyze areas of high uncertainty in the Kriging model."
   ]
  },
  {
   "cell_type": "code",
   "execution_count": null,
   "id": "7353e913-3bb9-4305-85d4-43e305ebdc58",
   "metadata": {},
   "outputs": [],
   "source": [
    "# Identify areas of high uncertainty\n",
    "high_uncertainty = grid_variance > np.percentile(grid_variance, 90)\n",
    "\n",
    "plt.figure(figsize=(8, 6))\n",
    "plt.contourf(grid_x[:, :, 25], grid_y[:, :, 25], high_uncertainty[:, :, 25], cmap='Reds')\n",
    "plt.colorbar(label='High Uncertainty Areas')\n",
    "plt.title('High Uncertainty Areas in Kriging Prediction (Depth Level 25)')\n",
    "plt.show()\n"
   ]
  },
  {
   "cell_type": "markdown",
   "id": "1af23dfe-c49e-4f23-8573-3fe68227e54e",
   "metadata": {},
   "source": [
    "## Step 15: Sensitivity Analysis\n",
    "Perform a sensitivity analysis by testing different variogram models and their impact on the results."
   ]
  },
  {
   "cell_type": "code",
   "execution_count": null,
   "id": "8cac146c-6d2a-486d-9bfa-ff27efb6660e",
   "metadata": {},
   "outputs": [],
   "source": [
    "models = ['spherical', 'exponential', 'gaussian']\n",
    "results = {}\n",
    "\n",
    "for model in models:\n",
    "    variogram = Variogram(coordinates, values, model=model)\n",
    "    ok3d = OrdinaryKriging3D(variogram)\n",
    "    interpolated_values, _ = ok3d.execute('grid', grid_x, grid_y, grid_z)\n",
    "    \n",
    "    # Store results\n",
    "    results[model] = interpolated_values\n",
    "\n",
    "# Plot to compare different variogram models\n",
    "plt.figure(figsize=(18, 6))\n",
    "for i, model in enumerate(models):\n",
    "    plt.subplot(1, 3, i+1)\n",
    "    plt.contourf(grid_x[:, :, 25], grid_y\n",
    "    plt.contourf(grid_x[:, :, 25], grid_y[:, :, 25], results[model][:, :, 25], cmap='viridis')\n",
    "    plt.colorbar(label=f'Interpolated Gas Production ({model})')\n",
    "    plt.title(f'Kriging Interpolation - {model.capitalize()} (Depth Level 25)')\n",
    "plt.show()\n"
   ]
  },
  {
   "cell_type": "markdown",
   "id": "d7c8c14a-48cb-47d7-889b-210d914f006d",
   "metadata": {},
   "source": [
    "## Step 16: Parameter Tuning\n",
    "Experiment with different parameters such as the number of lags (n_lags), variogram model, and Kriging parameters like min_points and max_points."
   ]
  },
  {
   "cell_type": "code",
   "execution_count": null,
   "id": "a6cfee5a-0492-466d-80de-a73f114f8633",
   "metadata": {},
   "outputs": [],
   "source": [
    "# Example of parameter tuning\n",
    "best_rmse = float('inf')\n",
    "best_params = None\n",
    "\n",
    "for model in ['spherical', 'exponential', 'gaussian']:\n",
    "    for n_lags in [10, 20, 30]:\n",
    "        variogram = Variogram(coordinates, values, model=model, n_lags=n_lags)\n",
    "        ok3d = OrdinaryKriging3D(variogram)\n",
    "        \n",
    "        # Perform Kriging\n",
    "        interpolated_values, _ = ok3d.execute('grid', grid_x, grid_y, grid_z)\n",
    "        \n",
    "        # Evaluate with test set\n",
    "        predicted_values, _ = ok3d.execute('points', test['x'].values, test['y'].values, test['vertical_depth'].values)\n",
    "        rmse = np.sqrt(np.mean((test['gas_production'] - predicted_values)**2))\n",
    "        \n",
    "        if rmse < best_rmse:\n",
    "            best_rmse = rmse\n",
    "            best_params = (model, n_lags)\n",
    "\n",
    "print(f'Best Model: {best_params[0]}, Best n_lags: {best_params[1]}, RMSE: {best_rmse:.4f}')\n"
   ]
  },
  {
   "cell_type": "markdown",
   "id": "69d54e29-2dea-4ba8-8769-871cbb65a36c",
   "metadata": {},
   "source": [
    "## Step 17: Comparison with Other Interpolation Methods\n",
    "Compare the Kriging results with other interpolation methods such as 3D Inverse Distance Weighting (IDW) or Radial Basis Functions (RBF)."
   ]
  },
  {
   "cell_type": "markdown",
   "id": "27a42013-34e9-4b81-87bb-dd5da9abbe89",
   "metadata": {},
   "source": [
    "3D Inverse Distance Weighting (IDW) Example:"
   ]
  },
  {
   "cell_type": "code",
   "execution_count": null,
   "id": "16ee127a-418e-4f70-9207-151f1426e7f7",
   "metadata": {},
   "outputs": [],
   "source": [
    "from scipy.interpolate import griddata\n",
    "\n",
    "# Use griddata for 3D IDW\n",
    "interpolated_idw = griddata(\n",
    "    coordinates, values, \n",
    "    (grid_x, grid_y, grid_z), \n",
    "    method='linear'\n",
    ")\n",
    "\n",
    "# Visualize a cross-section of the IDW result\n",
    "plt.figure(figsize=(10, 6))\n",
    "\n",
    "plt.subplot(1, 2, 1)\n",
    "plt.contourf(grid_x[:, :, 25], grid_y[:, :, 25], interpolated_idw[:, :, 25], cmap='viridis')\n",
    "plt.colorbar(label='Interpolated Gas Production (IDW)')\n",
    "plt.title('Cross-section of IDW Interpolation at Depth Level 25')\n",
    "\n",
    "plt.subplot(1, 2, 2)\n",
    "plt.contourf(grid_x[:, :, 25], grid_y[:, :, 25], grid_variance[:, :, 25], cmap='plasma')\n",
    "plt.colorbar(label='Kriging Variance')\n",
    "plt.title('Cross-section of Kriging Variance at Depth Level 25')\n",
    "\n",
    "plt.show()\n"
   ]
  },
  {
   "cell_type": "markdown",
   "id": "6ed0a2f5-aeca-4a51-b4ed-bd6e44e97a85",
   "metadata": {},
   "source": [
    "Radial Basis Function (RBF) Example:"
   ]
  },
  {
   "cell_type": "code",
   "execution_count": null,
   "id": "5e399a7d-3f6e-41a4-921c-1e39aba8bd6d",
   "metadata": {},
   "outputs": [],
   "source": [
    "from scipy.interpolate import Rbf\n",
    "\n",
    "# Fit the RBF model\n",
    "rbf = Rbf(train['x'], train['y'], train['vertical_depth'], train['gas_production'], function='linear')\n",
    "\n",
    "# Interpolate the values\n",
    "interpolated_rbf = rbf(grid_x, grid_y, grid_z)\n",
    "\n",
    "# Visualize a cross-section of the RBF result\n",
    "plt.figure(figsize=(10, 6))\n",
    "\n",
    "plt.subplot(1, 2, 1)\n",
    "plt.contourf(grid_x[:, :, 25], grid_y[:, :, 25], interpolated_rbf[:, :, 25], cmap='viridis')\n",
    "plt.colorbar(label='Interpolated Gas Production (RBF)')\n",
    "plt.title('Cross-section of RBF Interpolation at Depth Level 25')\n",
    "\n",
    "plt.subplot(1, 2, 2)\n",
    "plt.contourf(grid_x[:, :, 25], grid_y[:, :, 25], grid_variance[:, :, 25], cmap='plasma')\n",
    "plt.colorbar(label='Kriging Variance')\n",
    "plt.title('Cross-section of Kriging Variance at Depth Level 25')\n",
    "\n",
    "plt.show()\n"
   ]
  },
  {
   "cell_type": "markdown",
   "id": "54fc7264-6037-4214-947d-77e82afbe2c3",
   "metadata": {},
   "source": [
    "## Step 18: Final Report and Presentation\n",
    "Prepare a comprehensive report that includes:\n",
    "\n",
    "- Introduction: Describe the purpose of the project, including the significance of predicting natural gas production.\n",
    "- Data Description: Detail the dataset, including its source, features, and any preprocessing steps.\n",
    "- Methodology: Discuss the variogram modeling, Kriging process, and comparison with other interpolation methods.\n",
    "- Results: Present the RMSE values, cross-validation results, and visualizations for Kriging and other methods.\n",
    "- Discussion: Analyze the results, including the uncertainty and sensitivity analysis.\n",
    "- Conclusion: Summarize the findings and potential applications in the field."
   ]
  },
  {
   "cell_type": "markdown",
   "id": "4a560994-5145-4faa-9f46-dcdd180d1b49",
   "metadata": {},
   "source": [
    "## Step 19: Code Packaging and Automation\n",
    "To facilitate reuse and automation, package your code into functions or classes:"
   ]
  },
  {
   "cell_type": "code",
   "execution_count": null,
   "id": "6f084759-7cdd-43a6-8e42-efc8278c29df",
   "metadata": {},
   "outputs": [],
   "source": [
    "class Kriging3DModel:\n",
    "    def __init__(self, data, variogram_model='spherical', n_lags=20, grid_res=50):\n",
    "        self.data = data\n",
    "        self.variogram_model = variogram_model\n",
    "        self.n_lags = n_lags\n",
    "        self.grid_res = grid_res\n",
    "        self.coordinates = data[['x', 'y', 'vertical_depth']].values\n",
    "        self.values = data['gas_production'].values\n",
    "\n",
    "    def fit_variogram(self):\n",
    "        self.variogram = Variogram(self.coordinates, self.values, model=self.variogram_model, n_lags=self.n_lags)\n",
    "    \n",
    "    def perform_kriging(self):\n",
    "        self.ok3d = OrdinaryKriging3D(self.variogram)\n",
    "        \n",
    "        grid_x, grid_y, grid_z = np.meshgrid(\n",
    "            np.linspace(self.data['x'].min(), self.data['x'].max(), self.grid_res),\n",
    "            np.linspace(self.data['y'].min(), self.data['y'].max(), self.grid_res),\n",
    "            np.linspace(self.data['vertical_depth'].min(), self.data['vertical_depth'].max(), self.grid_res)\n",
    "        )\n",
    "        \n",
    "        self.interpolated_values, self.grid_variance = self.ok3d.execute('grid', grid_x, grid_y, grid_z)\n",
    "    \n",
    "    def evaluate(self, test_data):\n",
    "        test_coordinates = test_data[['x', 'y', 'vertical_depth']].values\n",
    "        predicted_values, _ = self.ok3d.execute('points', test_data['x'].values, test_data['y'].values, test_data['vertical_depth'].values)\n",
    "        rmse = np.sqrt(np.mean((test_data['gas_production'] - predicted_values)**2))\n",
    "        return rmse\n",
    "    \n",
    "    def save_results(self, filename):\n",
    "        np.save(f'{filename}_interpolated_values.npy', self.interpolated_values)\n",
    "        np.save(f'{filename}_grid_variance.npy', self.grid_variance)\n",
    "\n",
    "# Example usage:\n",
    "kriging_model = Kriging3DModel(data)\n",
    "kriging_model.fit_variogram()\n",
    "kriging_model.perform_kriging()\n",
    "rmse = kriging_model.evaluate(test)\n",
    "print(f'RMSE: {rmse:.4f}')\n",
    "kriging_model.save_results('kriging_results')\n"
   ]
  },
  {
   "cell_type": "markdown",
   "id": "39a17c67-2c1e-4ff2-a9af-2275b839f89a",
   "metadata": {},
   "source": [
    "## Step 20: Deployment and Application\n",
    "Deploy the Kriging model within an oil and gas company's decision-making platform, or as part of a web-based application. This could involve:\n",
    "- Building a Web Interface: Using frameworks like Flask or Django, create a web interface that allows users to input new well coordinates and get predictions.\n",
    "- Integration with Existing Tools: Integrate with GIS tools or custom enterprise software for oil and gas operations."
   ]
  },
  {
   "cell_type": "markdown",
   "id": "03d91675-a93d-416e-a06e-dda3bc64d150",
   "metadata": {},
   "source": [
    "## Step 21: Advanced Variogram Modeling\n",
    "Explore more advanced variogram models such as:\n",
    "- Nested Variograms: Combine multiple variogram models to capture complex spatial patterns.\n",
    "- Anisotropic Variograms: Model directional dependence by fitting anisotropic variograms."
   ]
  },
  {
   "cell_type": "code",
   "execution_count": null,
   "id": "5432eedf-bcbc-430d-a5a4-4ee82f9d5fa8",
   "metadata": {},
   "outputs": [],
   "source": [
    "# Step 21 Example: Anisotropic variogram\n",
    "variogram = Variogram(coordinates, values, model='spherical', anisotropy_scaling=2.0, anisotropy_angle=45)\n",
    "variogram.plot()"
   ]
  },
  {
   "cell_type": "markdown",
   "id": "2f83f588-7b7b-4e45-9ae8-b16db902008a",
   "metadata": {},
   "source": [
    "## Step 22: Conditional Simulation\n",
    "Generate multiple realizations of the gas production field to assess uncertainty in predictions."
   ]
  },
  {
   "cell_type": "code",
   "execution_count": null,
   "id": "b3768bcd-2ef8-43f1-b418-2ad015542c16",
   "metadata": {},
   "outputs": [],
   "source": [
    "from pykrige.ok3d import OrdinaryKriging3D\n",
    "\n",
    "# Perform conditional simulation (generating multiple realizations)\n",
    "simulations = []\n",
    "n_simulations = 100\n",
    "for _ in range(n_simulations):\n",
    "    ok3d = OrdinaryKriging3D(variogram)\n",
    "    sim_values, _ = ok3d.execute('grid', grid_x, grid_y, grid_z, pseudo_data=True)\n",
    "    simulations.append(sim_values)\n",
    "\n",
    "# Calculate the mean and standard deviation of the simulations\n",
    "simulated_mean = np.mean(simulations, axis=0)\n",
    "simulated_std = np.std(simulations, axis=0)\n",
    "\n",
    "# Visualize the simulated mean and standard deviation\n",
    "plt.figure(figsize=(12, 6))\n",
    "plt.subplot(1, 2, 1)\n",
    "plt.contourf(grid_x[:, :, 25], grid_y[:, :, 25], simulated_mean[:, :, 25], cmap='viridis')\n",
    "plt.colorbar(label='Simulated Mean Gas Production')\n",
    "plt.title('Simulated Mean (Depth Level 25)')\n",
    "\n",
    "plt.subplot(1, 2, 2)\n",
    "plt.contourf(grid_x[:, :, 25], grid_y[:, :, 25], simulated_std[:, :, 25], cmap='plasma')\n",
    "plt.colorbar(label='Simulated Std Dev of Gas Production')\n",
    "plt.title('Simulated Std Dev (Depth Level 25)')\n",
    "plt.show()\n"
   ]
  },
  {
   "cell_type": "markdown",
   "id": "17b144e6-3c6b-4417-8790-f67340d900fc",
   "metadata": {},
   "source": [
    "## Step 23: Multivariate Kriging (Co-Kriging)\n",
    "If you have additional related variables, you can use Co-Kriging to leverage the spatial correlation between variables. Co-Kriging requires extending the variogram to include cross-covariance between the primary and secondary variables.\n",
    "\n",
    "Example of Co-Kriging:\n",
    "Assume we have another variable, such as oil_production, that could be spatially correlated with gas_production."
   ]
  },
  {
   "cell_type": "code",
   "execution_count": null,
   "id": "85c46cdc-f72b-4807-997e-65b736f52cbe",
   "metadata": {},
   "outputs": [],
   "source": [
    "# Prepare data for Co-Kriging\n",
    "secondary_variable = train['oil_production'].values  # Assume oil_production is a column in the dataset\n",
    "\n",
    "# Use PyKrige's Co-Kriging capabilities\n",
    "from pykrige.ok import UniversalKriging\n",
    "\n",
    "# Fit a 3D Co-Kriging model\n",
    "uk3d = UniversalKriging(\n",
    "    train['x'].values, train['y'].values, train['vertical_depth'].values, train['gas_production'].values, \n",
    "    variogram_model='spherical', drift_terms=['regional_linear']\n",
    ")\n",
    "\n",
    "# Predict gas production using the Co-Kriging model\n",
    "predicted_gas, variance = uk3d.execute('grid', grid_x, grid_y, grid_z)\n",
    "\n",
    "# Visualize the results\n",
    "plt.figure(figsize=(10, 6))\n",
    "plt.contourf(grid_x[:, :, 25], grid_y[:, :, 25], predicted_gas[:, :, 25], cmap='viridis')\n",
    "plt.colorbar(label='Co-Kriged Gas Production')\n",
    "plt.title('Co-Kriging Interpolation at Depth Level 25')\n",
    "plt.show()\n"
   ]
  },
  {
   "cell_type": "markdown",
   "id": "1eac8da1-31cd-464f-bb3f-568f98cf35dd",
   "metadata": {},
   "source": [
    "## Step 24: Geostatistical Uncertainty Quantification\n",
    "Quantify the total uncertainty in the model predictions, incorporating both the Kriging variance and potential model uncertainties (e.g., from the variogram model)."
   ]
  },
  {
   "cell_type": "code",
   "execution_count": null,
   "id": "c7693af2-8ec1-4895-b493-9639da1c4078",
   "metadata": {},
   "outputs": [],
   "source": [
    "# Calculate total uncertainty\n",
    "total_uncertainty = np.sqrt(grid_variance + simulated_std**2)\n",
    "\n",
    "# Visualize the total uncertainty\n",
    "plt.figure(figsize=(8, 6))\n",
    "plt.contourf(grid_x[:, :, 25], grid_y[:, :, 25], total_uncertainty[:, :, 25], cmap='plasma')\n",
    "plt.colorbar(label='Total Uncertainty')\n",
    "plt.title('Total Uncertainty in Gas Production Prediction (Depth Level 25)')\n",
    "plt.show()\n"
   ]
  },
  {
   "cell_type": "markdown",
   "id": "3b48262b-5158-468b-bdba-29cae32c5fce",
   "metadata": {},
   "source": [
    "## Step 25: Model Diagnostics\n",
    "Perform detailed diagnostics on the Kriging model to ensure it meets the assumptions:\n",
    "- Normality Check: Verify that the residuals are normally distributed.\n",
    "- Homoscedasticity Check: Ensure the residual variance is constant across predicted values."
   ]
  },
  {
   "cell_type": "code",
   "execution_count": null,
   "id": "6bfaa707-6a03-41cd-b943-95f4acb5790f",
   "metadata": {},
   "outputs": [],
   "source": [
    "# Residuals analysis\n",
    "residuals = test['gas_production'] - test['predicted_gas_production']\n",
    "\n",
    "# Normality check\n",
    "plt.figure()\n",
    "plt.hist(residuals, bins=20, color='gray', edgecolor='black')\n",
    "plt.title('Histogram of Residuals')\n",
    "plt.show()\n",
    "\n",
    "# Residuals vs Predicted values\n",
    "plt.figure()\n",
    "plt.scatter(test['predicted_gas_production'], residuals)\n",
    "plt.axhline(0, color='red', linestyle='--')\n",
    "plt.title('Residuals vs Predicted Gas Production')\n",
    "plt.xlabel('Predicted Gas Production')\n",
    "plt.ylabel('Residuals')\n",
    "plt.show()\n"
   ]
  },
  {
   "cell_type": "markdown",
   "id": "88a2c697-cc21-4428-b737-8b4a2d22bb92",
   "metadata": {},
   "source": [
    "## Step 26: Spatial Model Validation\n",
    "Beyond just evaluating the RMSE, compare the Kriging model with other spatial models. Consider models such as Bayesian Kriging, Gaussian Process Regression, or even spatial machine learning models (e.g., Spatial Random Forest).\n",
    "\n",
    "Example of Bayesian Kriging:"
   ]
  },
  {
   "cell_type": "code",
   "execution_count": null,
   "id": "6b81cd03-1519-458e-8706-ee1e0bce9378",
   "metadata": {},
   "outputs": [],
   "source": [
    "from pykrige.uk import UniversalKriging3D\n",
    "\n",
    "# Set up Bayesian Universal Kriging\n",
    "uk3d = UniversalKriging3D(\n",
    "    train['x'].values, train['y'].values, train['vertical_depth'].values, train['gas_production'].values,\n",
    "    variogram_model='spherical', drift_terms=['regional_linear']\n",
    ")\n",
    "\n",
    "# Predict using Bayesian Kriging\n",
    "predicted_values_uk, variance_uk = uk3d.execute('points', test['x'].values, test['y'].values, test['vertical_depth'].values)\n",
    "\n",
    "# Calculate RMSE\n",
    "rmse_uk = np.sqrt(np.mean((test['gas_production'] - predicted_values_uk)**2))\n",
    "print(f'RMSE (Bayesian Kriging): {rmse_uk:.4f}')\n"
   ]
  },
  {
   "cell_type": "markdown",
   "id": "7013cb27-fd0c-4dde-879a-113e260ae81b",
   "metadata": {},
   "source": [
    "## Step 27: Sensitivity to Data Quality\n",
    "Test how the model performs under varying data quality conditions, such as introducing noise or reducing the number of data points.\n",
    "\n",
    "Example: Adding Noise to the Data"
   ]
  },
  {
   "cell_type": "code",
   "execution_count": null,
   "id": "f497a6f2-316c-4365-bcc7-57ae77c23f0f",
   "metadata": {},
   "outputs": [],
   "source": [
    "# Add random noise to the gas production values\n",
    "noise_level = 0.1  # 10% noise\n",
    "noisy_data = data.copy()\n",
    "noisy_data['gas_production'] += noise_level * np.random.normal(size=data.shape[0])\n",
    "\n",
    "# Perform Kriging on noisy data\n",
    "kriging_model_noisy = Kriging3DModel(noisy_data)\n",
    "kriging_model_noisy.fit_variogram()\n",
    "kriging_model_noisy.perform_kriging()\n",
    "rmse_noisy = kriging_model_noisy.evaluate(test)\n",
    "print(f'RMSE with Noisy Data: {rmse_noisy:.4f}')\n"
   ]
  },
  {
   "cell_type": "markdown",
   "id": "65a7d4a6-78f0-4518-add4-b7c4d5eecab0",
   "metadata": {},
   "source": [
    "## Step 28: Real-World Application and Decision-Making\n",
    "In the context of oil and gas operations, use the Kriging model to guide decisions such as:\n",
    "- Well Placement: Identify optimal locations for drilling new wells.\n",
    "- Resource Estimation: Estimate total recoverable gas reserves in a field.\n",
    "- Risk Management: Use uncertainty quantification to manage risks in exploration and production."
   ]
  },
  {
   "cell_type": "markdown",
   "id": "b34aba42-6bd3-456c-a881-795e346eadda",
   "metadata": {},
   "source": [
    "## Step 29: Deployment and Scalability\n",
    "If the model needs to be applied at scale (e.g., across a large oil field with millions of data points), consider:\n",
    "- Parallel Computing: Distribute computations across multiple processors to handle large datasets.\n",
    "- Cloud Deployment: Deploy the model on cloud platforms (e.g., AWS, Google Cloud) to scale with computational resources."
   ]
  },
  {
   "cell_type": "markdown",
   "id": "b024f6bd-330e-42c1-b759-b7380eb6a363",
   "metadata": {},
   "source": [
    "## Step 30: Final Report with Policy Implications\n",
    "If the results of your Kriging model are used to inform policy or business strategy, the final report should include:\n",
    "- Clear Recommendations: Based on the model’s predictions, recommend specific actions or policies.\n",
    "- Ethical Considerations: Discuss any ethical implications, such as the impact of drilling on local communities or the environment.\n",
    "- Stakeholder Engagement: Include input from key stakeholders to ensure the model’s predictions align with broader organizational goals."
   ]
  },
  {
   "cell_type": "markdown",
   "id": "69e7f3ae-bda7-4cc4-b79a-4a74c8df2945",
   "metadata": {},
   "source": [
    "## Step 31: Bayesian Kriging\n",
    "Implement Bayesian Kriging, which incorporates prior distributions for the variogram parameters and generates a full posterior distribution for the predictions.\n",
    "\n",
    "Example Using PyMC3 (a Bayesian library):"
   ]
  },
  {
   "cell_type": "code",
   "execution_count": null,
   "id": "483031ad-8937-497f-8035-41eac9545228",
   "metadata": {},
   "outputs": [],
   "source": [
    "import pymc3 as pm\n",
    "\n",
    "# Define the model\n",
    "with pm.Model() as kriging_model:\n",
    "    # Priors for variogram parameters\n",
    "    range_ = pm.Normal('range', mu=50, sigma=10)\n",
    "    sill = pm.Normal('sill', mu=1, sigma=0.5)\n",
    "    nugget = pm.Normal('nugget', mu=0.1, sigma=0.05)\n",
    "    \n",
    "    # Define the variogram model\n",
    "    variogram = pm.Deterministic('variogram', sill * (1.0 - pm.math.exp(-3.0 * (coordinates / range_)**2)) + nugget)\n",
    "    \n",
    "    # Likelihood\n",
    "    observed_data = pm.Normal('observed_data', mu=variogram, sigma=sill, observed=values)\n",
    "    \n",
    "    # Sample from the posterior\n",
    "    trace = pm.sample(1000, return_inferencedata=True)\n",
    "\n",
    "# Summary of the posterior\n",
    "pm.summary(trace)\n"
   ]
  },
  {
   "cell_type": "markdown",
   "id": "306183f2-c6e2-41d1-8a0c-8f1a90c6325a",
   "metadata": {},
   "source": [
    "## Step 32: Integration with Geographic Information Systems (GIS)\n",
    "Export your 3D Kriging results to GIS formats like GeoTIFF or Shapefiles for integration with GIS tools such as QGIS or ArcGIS."
   ]
  },
  {
   "cell_type": "code",
   "execution_count": null,
   "id": "9ef93df8-af07-474f-8f0a-e9b608a4d269",
   "metadata": {},
   "outputs": [],
   "source": [
    "import rasterio\n",
    "from rasterio.transform import from_origin\n",
    "\n",
    "# Exporting interpolated values to a GeoTIFF file\n",
    "with rasterio.open(\n",
    "    'kriging_3d_interpolation.tif', 'w',\n",
    "    driver='GTiff',\n",
    "    height=interpolated_values.shape[0],\n",
    "    width=interpolated_values.shape[1],\n",
    "    count=1,\n",
    "    dtype=str(interpolated_values.dtype),\n",
    "    crs='+proj=latlong',\n",
    "    transform=from_origin(data['x'].min(), data['y'].max(), 1, 1)\n",
    ") as dst:\n",
    "    dst.write(interpolated_values[:, :, 25], 1)\n"
   ]
  },
  {
   "cell_type": "markdown",
   "id": "56ae33e7-b316-41eb-b3ab-989c53876210",
   "metadata": {},
   "source": [
    "## Step 33: Dynamic Kriging for Spatio-Temporal Data\n",
    "Extend your model to handle data that varies over time (e.g., monthly gas production). This involves incorporating time as a fourth dimension in the Kriging process."
   ]
  },
  {
   "cell_type": "code",
   "execution_count": null,
   "id": "c877f031-f6e1-4389-ab28-7b35f047473a",
   "metadata": {},
   "outputs": [],
   "source": [
    "# Include time as a fourth dimension\n",
    "data['time'] = pd.to_datetime(data['date']).astype(int)  # Assuming 'date' is a column in the dataset\n",
    "\n",
    "# 4D Kriging with time as the fourth dimension\n",
    "coordinates_4d = data[['x', 'y', 'vertical_depth', 'time']].values\n",
    "variogram_4d = Variogram(coordinates_4d, values, model='spherical')\n",
    "ok4d = OrdinaryKriging3D(variogram_4d)\n",
    "\n",
    "# Perform 4D Kriging\n",
    "grid_x, grid_y, grid_z, grid_t = np.meshgrid(\n",
    "    np.linspace(data['x'].min(), data['x'].max(), 50),\n",
    "    np.linspace(data['y'].min(), data['y'].max(), 50),\n",
    "    np.linspace(data['vertical_depth'].min(), data['vertical_depth'].max(), 50),\n",
    "    np.linspace(data['time'].min(), data['time'].max(), 50)\n",
    ")\n",
    "interpolated_values_4d, grid_variance_4d = ok4d.execute('grid', grid_x, grid_y, grid_z, grid_t)\n"
   ]
  },
  {
   "cell_type": "markdown",
   "id": "e115b7a0-81de-4f64-bfdd-4da81732a664",
   "metadata": {},
   "source": [
    "## Step 34: Machine Learning-Augmented Kriging\n",
    "Combine Kriging with machine learning models to improve predictions, especially in capturing non-linear relationships.\n",
    "\n",
    "Example: Combining Kriging with Random Forest:"
   ]
  },
  {
   "cell_type": "code",
   "execution_count": null,
   "id": "93d3882e-5b94-49c1-8baa-9a8d93208481",
   "metadata": {},
   "outputs": [],
   "source": [
    "from sklearn.ensemble import RandomForestRegressor\n",
    "from sklearn.pipeline import make_pipeline\n",
    "\n",
    "# Train a Random Forest model on the data\n",
    "rf_model = make_pipeline(StandardScaler(), RandomForestRegressor(n_estimators=100))\n",
    "rf_model.fit(train[['x', 'y', 'vertical_depth']], train['gas_production'])\n",
    "\n",
    "# Use Kriging predictions as features in the Random Forest\n",
    "kriging_features = ok3d.execute('points', train['x'].values, train['y'].values, train['vertical_depth'].values)[0]\n",
    "train['kriging_pred'] = kriging_features\n",
    "\n",
    "# Retrain the Random Forest model using Kriging predictions as an additional feature\n",
    "rf_model.fit(train[['x', 'y', 'vertical_depth', 'kriging_pred']], train['gas_production'])\n",
    "\n",
    "# Predict using the hybrid model\n",
    "kriging_features_test = ok3d.execute('points', test['x'].values, test['y'].values, test['vertical_depth'].values)[0]\n",
    "test['kriging_pred'] = kriging_features_test\n",
    "rf_predictions = rf_model.predict(test[['x', 'y', 'vertical_depth', 'kriging_pred']])\n",
    "\n",
    "# Evaluate the hybrid model\n",
    "rmse_rf_kriging = np.sqrt(np.mean((test['gas_production'] - rf_predictions.ravel())**2))\n",
    "print(f'RMSE (Random Forest + Kriging): {rmse_rf_kriging:.4f}')\n"
   ]
  },
  {
   "cell_type": "markdown",
   "id": "f62f0c09-3ac7-4301-b75e-888976281c76",
   "metadata": {},
   "source": [
    "## Step 35: Automated Kriging Workflows\n",
    "Automate the process of selecting the best variogram model, tuning parameters, and performing validation using tools like AutoML or custom automation scripts."
   ]
  },
  {
   "cell_type": "code",
   "execution_count": null,
   "id": "97b2a3c8-3b90-4d8b-9532-8db99114425c",
   "metadata": {},
   "outputs": [],
   "source": [
    "# Example: Automating variogram selection and Kriging process\n",
    "best_rmse = float('inf')\n",
    "best_params = None\n",
    "for model in ['spherical', 'exponential', 'gaussian']:\n",
    "    for n_lags in [10, 20, 30]:\n",
    "        variogram = Variogram(coordinates, values, model=model, n_lags=n_lags)\n",
    "        ok3d = OrdinaryKriging3D(variogram)\n",
    "        \n",
    "        # Perform Kriging\n",
    "        interpolated_values, _ = ok3d.execute('grid', grid_x, grid_y, grid_z)\n",
    "        \n",
    "        # Evaluate with test set\n",
    "        predicted_values, _ = ok3d.execute('points', test['x'].values, test['y'].values, test['vertical_depth'].values)\n",
    "        rmse = np.sqrt(np.mean((test['gas_production'] - predicted_values)**2))\n",
    "        \n",
    "        if rmse < best_rmse:\n",
    "            best_rmse = rmse\n",
    "            best_params = (model, n_lags)\n",
    "\n",
    "print(f'Best Model: {best_params[0]}, Best n_lags: {best_params[1]}, RMSE: {best_rmse:.4f}')\n"
   ]
  },
  {
   "cell_type": "markdown",
   "id": "29d59da4-137c-4f3e-9b60-8342118f78fc",
   "metadata": {},
   "source": [
    "## Step 36: 3D Kriging\n",
    "This step focuses on implementing 3D Kriging from the beginning, accounting for the vertical depth in the well data. This was covered in earlier steps, but here’s a quick recap:"
   ]
  },
  {
   "cell_type": "code",
   "execution_count": null,
   "id": "3d1c9ccd-c1db-4622-8221-ff3fa49b0fce",
   "metadata": {},
   "outputs": [],
   "source": [
    "# 3D Kriging was covered in earlier steps; here's a quick summary of the process:\n",
    "ok3d = OrdinaryKriging3D(\n",
    "    train['x'].values, train['y'].values, train['vertical_depth'].values, train['gas_production'].values, \n",
    "    variogram_model='spherical'\n",
    ")\n",
    "grid_x, grid_y, grid_z = np.meshgrid(\n",
    "    np.linspace(data['x'].min(), data['x'].max(), 50),\n",
    "    np.linspace(data['y'].min(), data['y'].max(), 50),\n",
    "    np.linspace(data['vertical_depth'].min(), data['vertical_depth'].max(), 50)\n",
    ")\n",
    "interpolated_values, grid_variance = ok3d.execute('grid', grid_x, grid_y, grid_z)\n"
   ]
  },
  {
   "cell_type": "markdown",
   "id": "94a0df52-0b36-4660-b2c1-8e997cabb8ba",
   "metadata": {},
   "source": [
    "## Step 37: Global Kriging\n",
    "Global Kriging extends the model to work over a larger geographic area, taking into account the curvature of the Earth. This requires using spherical coordinates and potentially modifying the variogram model to accommodate large-scale non-stationarity.\n",
    "\n",
    "Steps for Global Kriging:\n",
    "- Convert Coordinates: Transform the x, y coordinates into latitude and longitude or other global coordinate systems.\n",
    "- Adjust the Variogram: Modify the variogram to handle larger geographic scales.\n",
    "- Perform Kriging: Use spherical coordinates in the Kriging process."
   ]
  },
  {
   "cell_type": "code",
   "execution_count": null,
   "id": "1b0f8c24-98af-4bc7-861c-34977c4ba213",
   "metadata": {},
   "outputs": [],
   "source": [
    "# Transforming coordinates for global scale (example using lat/long)\n",
    "# Assuming 'longitude' and 'latitude' are columns in the dataset\n",
    "import pyproj\n",
    "\n",
    "proj = pyproj.Proj(proj='latlong', datum='WGS84')\n",
    "data['x'], data['y'] = proj(data['longitude'].values, data['latitude'].values)\n",
    "\n",
    "# Use these transformed coordinates in the Kriging process\n",
    "coordinates_global = data[['x', 'y', 'vertical_depth']].values\n",
    "variogram_global = Variogram(coordinates_global, values, model='spherical')\n",
    "ok3d_global = OrdinaryKriging3D(variogram_global)\n",
    "\n",
    "# Perform global Kriging\n",
    "interpolated_values_global, grid_variance_global = ok3d_global.execute('grid', grid_x, grid_y, grid_z)\n"
   ]
  },
  {
   "cell_type": "markdown",
   "id": "cbb783f1-0aa8-4a99-a646-36ab6db5119c",
   "metadata": {},
   "source": [
    "## Step 38: Deep Learning-Based Spatial Modeling\n",
    "Integrate deep learning approaches, such as Convolutional Neural Networks (CNNs), with Kriging for spatial modeling. This can be particularly useful for capturing complex, non-linear spatial patterns.\n",
    "\n",
    "Example Using a CNN for Spatial Data:"
   ]
  },
  {
   "cell_type": "code",
   "execution_count": null,
   "id": "f553f93e-31a0-4fc1-8e39-9650b43df7e4",
   "metadata": {},
   "outputs": [],
   "source": [
    "import tensorflow as tf\n",
    "from tensorflow.keras import layers, models\n",
    "\n",
    "# Define the CNN model\n",
    "cnn_model = models.Sequential([\n",
    "    layers.Conv2D(32, (3, 3), activation='relu', input_shape=(50, 50, 1)),\n",
    "    layers.MaxPooling2D((2, 2)),\n",
    "    layers.Conv2D(64, (3, 3), activation='relu'),\n",
    "    layers.MaxPooling2D((2, 2)),\n",
    "    layers.Flatten(),\n",
    "    layers.Dense(64, activation='relu'),\n",
    "    layers.Dense(1)  # Predict gas production\n",
    "])\n",
    "\n",
    "# Compile the model\n",
    "cnn_model.compile(optimizer='adam', loss='mean_squared_error')\n",
    "\n",
    "# Reshape data for CNN input\n",
    "X_train = interpolated_values[:, :, 25].reshape(-1, 50, 50, 1)  # Example for a 2D cross-section\n",
    "y_train = train['gas_production'].values\n",
    "\n",
    "# Train the model\n",
    "cnn_model.fit(X_train, y_train, epochs=10, batch_size=32)\n",
    "\n",
    "# Use the CNN model to predict gas production on the test set\n",
    "X_test = grid_x[:, :, 25].reshape(-1, 50, 50, 1)\n",
    "cnn_predictions = cnn_model.predict(X_test)\n",
    "\n",
    "# Evaluate the CNN model\n",
    "rmse_cnn = np.sqrt(np.mean((test['gas_production'] - cnn_predictions.ravel())**2))\n",
    "print(f'RMSE (CNN): {rmse_cnn:.4f}')\n"
   ]
  },
  {
   "cell_type": "markdown",
   "id": "4a930a70-f8fd-4443-b294-fd3ce5bc6342",
   "metadata": {},
   "source": [
    "## Step 39: Ethics and Fairness in Spatial Predictions\n",
    "Evaluate the ethical implications of your predictions, particularly if they affect communities, environments, or resource management. Consider:\n",
    "\n",
    "- Bias: Ensure that the model doesn't introduce bias that could disproportionately affect certain groups.\n",
    "- Transparency: Clearly communicate the limitations and uncertainties of your model to stakeholders.\n",
    "- Sustainability: Assess the long-term environmental impacts of decisions based on your model."
   ]
  },
  {
   "cell_type": "markdown",
   "id": "b825b3e1-bec7-43da-9fc3-fe5ce46271c0",
   "metadata": {},
   "source": [
    "## Step 40: Interactive Web Applications\n",
    "Develop an interactive web application that allows users to explore Kriging predictions dynamically. This could be built using frameworks like Flask, Django, or Streamlit.\n",
    "\n",
    "Example Using Streamlit:"
   ]
  },
  {
   "cell_type": "code",
   "execution_count": null,
   "id": "336e63ff-0baa-4b69-802b-9fa8ad5301e6",
   "metadata": {},
   "outputs": [],
   "source": [
    "import streamlit as st\n",
    "\n",
    "# Build an interactive app with Streamlit\n",
    "st.title(\"3D Kriging for Gas Production Prediction\")\n",
    "\n",
    "# Input fields for new well coordinates\n",
    "x_input = st.number_input(\"Enter x-coordinate\", value=0.0)\n",
    "y_input = st.number_input(\"Enter y-coordinate\", value=0.0)\n",
    "depth_input = st.number_input(\"Enter vertical depth\", value=0.0)\n",
    "\n",
    "# Predict gas production for the input coordinates\n",
    "predicted_gas, _ = ok3d.execute('points', np.array([x_input]), np.array([y_input]), np.array([depth_input]))\n",
    "st.write(f\"Predicted Gas Production: {predicted_gas[0]:.2f}\")\n",
    "\n",
    "# Option to visualize the entire 3D grid\n",
    "if st.button(\"Show 3D Kriging Interpolation\"):\n",
    "    fig, ax = plt.subplots(subplot_kw={\"projection\": \"3d\"})\n",
    "    ax.scatter(grid_x, grid_y, grid_z, c=interpolated_values.ravel(), cmap='viridis')\n",
    "    st.pyplot(fig)\n"
   ]
  },
  {
   "cell_type": "markdown",
   "id": "2a501987-23eb-47fe-919d-1194c708390b",
   "metadata": {},
   "source": [
    "This web application allows users to input coordinates for new wells and instantly see predicted gas production values based on the Kriging model. The app can be extended with additional features such as sensitivity analysis, uncertainty visualization, and more.\n",
    "\n",
    "\n",
    "\n",
    "\n",
    "\n"
   ]
  },
  {
   "cell_type": "markdown",
   "id": "4624a534-6c7a-445c-bbee-d453aa70401e",
   "metadata": {},
   "source": [
    "## Script"
   ]
  },
  {
   "cell_type": "code",
   "execution_count": null,
   "id": "2ac16e3c-1491-44c4-9a21-949757a4399b",
   "metadata": {},
   "outputs": [],
   "source": [
    "try:\n",
    "    print('Script executed successfully.')\n",
    "except:\n",
    "    print('FAILED')"
   ]
  }
 ],
 "metadata": {
  "kernelspec": {
   "display_name": "Python 3 (ipykernel)",
   "language": "python",
   "name": "python3"
  },
  "language_info": {
   "codemirror_mode": {
    "name": "ipython",
    "version": 3
   },
   "file_extension": ".py",
   "mimetype": "text/x-python",
   "name": "python",
   "nbconvert_exporter": "python",
   "pygments_lexer": "ipython3",
   "version": "3.9.19"
  }
 },
 "nbformat": 4,
 "nbformat_minor": 5
}
