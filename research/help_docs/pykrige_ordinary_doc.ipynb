{
  "cells": [
    {
      "cell_type": "markdown",
      "metadata": {},
      "source": [
        "\n# Ordinary Kriging Example\n\nFirst we will create a 2D dataset together with the associated x, y grids.\n"
      ]
    },
    {
      "cell_type": "code",
      "execution_count": null,
      "metadata": {
        "collapsed": false
      },
      "outputs": [],
      "source": [
        "import matplotlib.pyplot as plt\nimport numpy as np\n\nimport pykrige.kriging_tools as kt\nfrom pykrige.ok import OrdinaryKriging\n\ndata = np.array(\n    [\n        [0.3, 1.2, 0.47],\n        [1.9, 0.6, 0.56],\n        [1.1, 3.2, 0.74],\n        [3.3, 4.4, 1.47],\n        [4.7, 3.8, 1.74],\n    ]\n)\n\ngridx = np.arange(0.0, 5.5, 0.5)\ngridy = np.arange(0.0, 5.5, 0.5)"
      ]
    },
    {
      "cell_type": "markdown",
      "metadata": {},
      "source": [
        "Create the ordinary kriging object. Required inputs are the X-coordinates of\nthe data points, the Y-coordinates of the data points, and the Z-values of the\ndata points. If no variogram model is specified, defaults to a linear variogram\nmodel. If no variogram model parameters are specified, then the code automatically\ncalculates the parameters by fitting the variogram model to the binned\nexperimental semivariogram. The verbose kwarg controls code talk-back, and\nthe enable_plotting kwarg controls the display of the semivariogram.\n\n"
      ]
    },
    {
      "cell_type": "code",
      "execution_count": null,
      "metadata": {
        "collapsed": false
      },
      "outputs": [],
      "source": [
        "OK = OrdinaryKriging(\n    data[:, 0],\n    data[:, 1],\n    data[:, 2],\n    variogram_model=\"linear\",\n    verbose=False,\n    enable_plotting=False,\n)"
      ]
    },
    {
      "cell_type": "markdown",
      "metadata": {},
      "source": [
        "Creates the kriged grid and the variance grid. Allows for kriging on a rectangular\ngrid of points, on a masked rectangular grid of points, or with arbitrary points.\n(See OrdinaryKriging.__doc__ for more information.)\n\n"
      ]
    },
    {
      "cell_type": "code",
      "execution_count": null,
      "metadata": {
        "collapsed": false
      },
      "outputs": [],
      "source": [
        "z, ss = OK.execute(\"grid\", gridx, gridy)"
      ]
    },
    {
      "cell_type": "markdown",
      "metadata": {},
      "source": [
        "Writes the kriged grid to an ASCII grid file and plot it.\n\n"
      ]
    },
    {
      "cell_type": "code",
      "execution_count": null,
      "metadata": {
        "collapsed": false
      },
      "outputs": [],
      "source": [
        "kt.write_asc_grid(gridx, gridy, z, filename=\"output.asc\")\nplt.imshow(z)\nplt.show()"
      ]
    }
  ],
  "metadata": {
    "kernelspec": {
      "display_name": "Python 3",
      "language": "python",
      "name": "python3"
    },
    "language_info": {
      "codemirror_mode": {
        "name": "ipython",
        "version": 3
      },
      "file_extension": ".py",
      "mimetype": "text/x-python",
      "name": "python",
      "nbconvert_exporter": "python",
      "pygments_lexer": "ipython3",
      "version": "3.11.6"
    }
  },
  "nbformat": 4,
  "nbformat_minor": 0
}