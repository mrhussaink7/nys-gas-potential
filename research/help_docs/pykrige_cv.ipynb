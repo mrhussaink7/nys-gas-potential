{
  "cells": [
    {
      "cell_type": "markdown",
      "metadata": {},
      "source": [
        "\n# Krige CV\n\nSearching for optimal kriging parameters with cross validation\n"
      ]
    },
    {
      "cell_type": "code",
      "execution_count": null,
      "metadata": {
        "collapsed": false
      },
      "outputs": [],
      "source": [
        "import numpy as np\nfrom sklearn.model_selection import GridSearchCV\n\nfrom pykrige.rk import Krige\n\n# 2D Kring param opt\n\nparam_dict = {\n    \"method\": [\"ordinary\", \"universal\"],\n    \"variogram_model\": [\"linear\", \"power\", \"gaussian\", \"spherical\"],\n    # \"nlags\": [4, 6, 8],\n    # \"weight\": [True, False]\n}\n\nestimator = GridSearchCV(Krige(), param_dict, verbose=True, return_train_score=True)\n\n# dummy data\nX = np.random.randint(0, 400, size=(100, 2)).astype(float)\ny = 5 * np.random.rand(100)\n\n# run the gridsearch\nestimator.fit(X=X, y=y)\n\n\nif hasattr(estimator, \"best_score_\"):\n    print(\"best_score R\u00b2 = {:.3f}\".format(estimator.best_score_))\n    print(\"best_params = \", estimator.best_params_)\n\nprint(\"\\nCV results::\")\nif hasattr(estimator, \"cv_results_\"):\n    for key in [\n        \"mean_test_score\",\n        \"mean_train_score\",\n        \"param_method\",\n        \"param_variogram_model\",\n    ]:\n        print(\" - {} : {}\".format(key, estimator.cv_results_[key]))\n\n# 3D Kring param opt\n\nparam_dict3d = {\n    \"method\": [\"ordinary3d\", \"universal3d\"],\n    \"variogram_model\": [\"linear\", \"power\", \"gaussian\", \"spherical\"],\n    # \"nlags\": [4, 6, 8],\n    # \"weight\": [True, False]\n}\n\nestimator = GridSearchCV(Krige(), param_dict3d, verbose=True, return_train_score=True)\n\n# dummy data\nX3 = np.random.randint(0, 400, size=(100, 3)).astype(float)\ny = 5 * np.random.rand(100)\n\n# run the gridsearch\nestimator.fit(X=X3, y=y)\n\n\nif hasattr(estimator, \"best_score_\"):\n    print(\"best_score R\u00b2 = {:.3f}\".format(estimator.best_score_))\n    print(\"best_params = \", estimator.best_params_)\n\nprint(\"\\nCV results::\")\nif hasattr(estimator, \"cv_results_\"):\n    for key in [\n        \"mean_test_score\",\n        \"mean_train_score\",\n        \"param_method\",\n        \"param_variogram_model\",\n    ]:\n        print(\" - {} : {}\".format(key, estimator.cv_results_[key]))"
      ]
    }
  ],
  "metadata": {
    "kernelspec": {
      "display_name": "Python 3",
      "language": "python",
      "name": "python3"
    },
    "language_info": {
      "codemirror_mode": {
        "name": "ipython",
        "version": 3
      },
      "file_extension": ".py",
      "mimetype": "text/x-python",
      "name": "python",
      "nbconvert_exporter": "python",
      "pygments_lexer": "ipython3",
      "version": "3.11.6"
    }
  },
  "nbformat": 4,
  "nbformat_minor": 0
}