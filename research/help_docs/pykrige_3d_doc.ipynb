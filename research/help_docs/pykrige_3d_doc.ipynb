{
  "cells": [
    {
      "cell_type": "markdown",
      "metadata": {},
      "source": [
        "\n# Three-Dimensional Kriging Example\n"
      ]
    },
    {
      "cell_type": "code",
      "execution_count": null,
      "metadata": {
        "collapsed": false
      },
      "outputs": [],
      "source": [
        "import numpy as np\nfrom matplotlib import pyplot as plt\n\nfrom pykrige.ok3d import OrdinaryKriging3D\nfrom pykrige.uk3d import UniversalKriging3D\n\ndata = np.array(\n    [\n        [0.1, 0.1, 0.3, 0.9],\n        [0.2, 0.1, 0.4, 0.8],\n        [0.1, 0.3, 0.1, 0.9],\n        [0.5, 0.4, 0.4, 0.5],\n        [0.3, 0.3, 0.2, 0.7],\n    ]\n)\n\ngridx = np.arange(0.0, 0.6, 0.05)\ngridy = np.arange(0.0, 0.6, 0.01)\ngridz = np.arange(0.0, 0.6, 0.1)"
      ]
    },
    {
      "cell_type": "markdown",
      "metadata": {},
      "source": [
        "Create the 3D ordinary kriging object and solves for the three-dimension kriged\nvolume and variance. Refer to OrdinaryKriging3D.__doc__ for more information.\n\n"
      ]
    },
    {
      "cell_type": "code",
      "execution_count": null,
      "metadata": {
        "collapsed": false
      },
      "outputs": [],
      "source": [
        "ok3d = OrdinaryKriging3D(\n    data[:, 0], data[:, 1], data[:, 2], data[:, 3], variogram_model=\"linear\"\n)\nk3d1, ss3d = ok3d.execute(\"grid\", gridx, gridy, gridz)"
      ]
    },
    {
      "cell_type": "markdown",
      "metadata": {},
      "source": [
        "Create the 3D universal kriging object and solves for the three-dimension kriged\nvolume and variance. Refer to UniversalKriging3D.__doc__ for more information.\n\n"
      ]
    },
    {
      "cell_type": "code",
      "execution_count": null,
      "metadata": {
        "collapsed": false
      },
      "outputs": [],
      "source": [
        "uk3d = UniversalKriging3D(\n    data[:, 0],\n    data[:, 1],\n    data[:, 2],\n    data[:, 3],\n    variogram_model=\"linear\",\n    drift_terms=[\"regional_linear\"],\n)\nk3d2, ss3d = uk3d.execute(\"grid\", gridx, gridy, gridz)"
      ]
    },
    {
      "cell_type": "markdown",
      "metadata": {},
      "source": [
        "To use the generic 'specified' drift term, the user must provide the drift values\nat each data point and at every grid point. The following example is equivalent to\nusing a linear drift in all three spatial dimensions. Refer to\nUniversalKriging3D.__doc__ for more information.\n\n"
      ]
    },
    {
      "cell_type": "code",
      "execution_count": null,
      "metadata": {
        "collapsed": false
      },
      "outputs": [],
      "source": [
        "zg, yg, xg = np.meshgrid(gridz, gridy, gridx, indexing=\"ij\")\nuk3d = UniversalKriging3D(\n    data[:, 0],\n    data[:, 1],\n    data[:, 2],\n    data[:, 3],\n    variogram_model=\"linear\",\n    drift_terms=[\"specified\"],\n    specified_drift=[data[:, 0], data[:, 1], data[:, 2]],\n)\nk3d3, ss3d = uk3d.execute(\n    \"grid\", gridx, gridy, gridz, specified_drift_arrays=[xg, yg, zg]\n)"
      ]
    },
    {
      "cell_type": "markdown",
      "metadata": {},
      "source": [
        "To use the generic 'functional' drift term, the user must provide a callable\nfunction that takes only the spatial dimensions as arguments. The following example\nis equivalent to using a linear drift only in the x-direction. Refer to\nUniversalKriging3D.__doc__ for more information.\n\n"
      ]
    },
    {
      "cell_type": "code",
      "execution_count": null,
      "metadata": {
        "collapsed": false
      },
      "outputs": [],
      "source": [
        "func = lambda x, y, z: x\nuk3d = UniversalKriging3D(\n    data[:, 0],\n    data[:, 1],\n    data[:, 2],\n    data[:, 3],\n    variogram_model=\"linear\",\n    drift_terms=[\"functional\"],\n    functional_drift=[func],\n)\nk3d4, ss3d = uk3d.execute(\"grid\", gridx, gridy, gridz)"
      ]
    },
    {
      "cell_type": "markdown",
      "metadata": {},
      "source": [
        "Note that the use of the 'specified' and 'functional' generic drift capabilities is\nessentially identical in the two-dimensional universal kriging class (except for a\ndifference in the number of spatial coordinates for the passed drift functions).\nSee UniversalKriging.__doc__ for more information.\n\n"
      ]
    },
    {
      "cell_type": "code",
      "execution_count": null,
      "metadata": {
        "collapsed": false
      },
      "outputs": [],
      "source": [
        "fig, (ax1, ax2, ax3, ax4) = plt.subplots(4)\nax1.imshow(k3d1[:, :, 0], origin=\"lower\")\nax1.set_title(\"ordinary kriging\")\nax2.imshow(k3d2[:, :, 0], origin=\"lower\")\nax2.set_title(\"regional lin. drift\")\nax3.imshow(k3d3[:, :, 0], origin=\"lower\")\nax3.set_title(\"specified drift\")\nax4.imshow(k3d4[:, :, 0], origin=\"lower\")\nax4.set_title(\"functional drift\")\nplt.tight_layout()\nplt.show()"
      ]
    }
  ],
  "metadata": {
    "kernelspec": {
      "display_name": "Python 3",
      "language": "python",
      "name": "python3"
    },
    "language_info": {
      "codemirror_mode": {
        "name": "ipython",
        "version": 3
      },
      "file_extension": ".py",
      "mimetype": "text/x-python",
      "name": "python",
      "nbconvert_exporter": "python",
      "pygments_lexer": "ipython3",
      "version": "3.11.6"
    }
  },
  "nbformat": 4,
  "nbformat_minor": 0
}