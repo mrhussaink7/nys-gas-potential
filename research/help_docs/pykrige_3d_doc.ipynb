{
 "cells": [
  {
   "cell_type": "markdown",
   "metadata": {},
   "source": [
    "\n",
    "# Three-Dimensional Kriging Example\n"
   ]
  },
  {
   "cell_type": "code",
   "execution_count": 1,
   "metadata": {
    "collapsed": false,
    "jupyter": {
     "outputs_hidden": false
    }
   },
   "outputs": [],
   "source": [
    "import numpy as np\n",
    "from matplotlib import pyplot as plt\n",
    "\n",
    "from pykrige.ok3d import OrdinaryKriging3D\n",
    "from pykrige.uk3d import UniversalKriging3D\n",
    "\n",
    "data = np.array(\n",
    "    [\n",
    "        [0.1, 0.1, 0.3, 0.9],\n",
    "        [0.2, 0.1, 0.4, 0.8],\n",
    "        [0.1, 0.3, 0.1, 0.9],\n",
    "        [0.5, 0.4, 0.4, 0.5],\n",
    "        [0.3, 0.3, 0.2, 0.7],\n",
    "    ]\n",
    ")\n",
    "\n",
    "gridx = np.arange(0.0, 0.6, 0.05)\n",
    "gridy = np.arange(0.0, 0.6, 0.01)\n",
    "gridz = np.arange(0.0, 0.6, 0.1)"
   ]
  },
  {
   "cell_type": "markdown",
   "metadata": {},
   "source": [
    "Create the 3D ordinary kriging object and solves for the three-dimension kriged\n",
    "volume and variance. Refer to OrdinaryKriging3D.__doc__ for more information.\n",
    "\n"
   ]
  },
  {
   "cell_type": "code",
   "execution_count": 2,
   "metadata": {
    "collapsed": false,
    "jupyter": {
     "outputs_hidden": false
    }
   },
   "outputs": [],
   "source": [
    "ok3d = OrdinaryKriging3D(\n",
    "    data[:, 0], data[:, 1], data[:, 2], data[:, 3], variogram_model=\"linear\"\n",
    ")\n",
    "k3d1, ss3d = ok3d.execute(\"grid\", gridx, gridy, gridz)"
   ]
  },
  {
   "cell_type": "markdown",
   "metadata": {},
   "source": [
    "Create the 3D universal kriging object and solves for the three-dimension kriged\n",
    "volume and variance. Refer to UniversalKriging3D.__doc__ for more information.\n",
    "\n"
   ]
  },
  {
   "cell_type": "code",
   "execution_count": 3,
   "metadata": {
    "collapsed": false,
    "jupyter": {
     "outputs_hidden": false
    }
   },
   "outputs": [],
   "source": [
    "uk3d = UniversalKriging3D(\n",
    "    data[:, 0],\n",
    "    data[:, 1],\n",
    "    data[:, 2],\n",
    "    data[:, 3],\n",
    "    variogram_model=\"linear\",\n",
    "    drift_terms=[\"regional_linear\"],\n",
    ")\n",
    "k3d2, ss3d = uk3d.execute(\"grid\", gridx, gridy, gridz)"
   ]
  },
  {
   "cell_type": "markdown",
   "metadata": {},
   "source": [
    "To use the generic 'specified' drift term, the user must provide the drift values\n",
    "at each data point and at every grid point. The following example is equivalent to\n",
    "using a linear drift in all three spatial dimensions. Refer to\n",
    "UniversalKriging3D.__doc__ for more information.\n",
    "\n"
   ]
  },
  {
   "cell_type": "code",
   "execution_count": 4,
   "metadata": {
    "collapsed": false,
    "jupyter": {
     "outputs_hidden": false
    }
   },
   "outputs": [],
   "source": [
    "zg, yg, xg = np.meshgrid(gridz, gridy, gridx, indexing=\"ij\")\n",
    "uk3d = UniversalKriging3D(\n",
    "    data[:, 0],\n",
    "    data[:, 1],\n",
    "    data[:, 2],\n",
    "    data[:, 3],\n",
    "    variogram_model=\"linear\",\n",
    "    drift_terms=[\"specified\"],\n",
    "    specified_drift=[data[:, 0], data[:, 1], data[:, 2]],\n",
    ")\n",
    "k3d3, ss3d = uk3d.execute(\n",
    "    \"grid\", gridx, gridy, gridz, specified_drift_arrays=[xg, yg, zg]\n",
    ")"
   ]
  },
  {
   "cell_type": "markdown",
   "metadata": {},
   "source": [
    "To use the generic 'functional' drift term, the user must provide a callable\n",
    "function that takes only the spatial dimensions as arguments. The following example\n",
    "is equivalent to using a linear drift only in the x-direction. Refer to\n",
    "UniversalKriging3D.__doc__ for more information.\n",
    "\n"
   ]
  },
  {
   "cell_type": "code",
   "execution_count": 5,
   "metadata": {
    "collapsed": false,
    "jupyter": {
     "outputs_hidden": false
    }
   },
   "outputs": [],
   "source": [
    "func = lambda x, y, z: x\n",
    "uk3d = UniversalKriging3D(\n",
    "    data[:, 0],\n",
    "    data[:, 1],\n",
    "    data[:, 2],\n",
    "    data[:, 3],\n",
    "    variogram_model=\"linear\",\n",
    "    drift_terms=[\"functional\"],\n",
    "    functional_drift=[func],\n",
    ")\n",
    "k3d4, ss3d = uk3d.execute(\"grid\", gridx, gridy, gridz)"
   ]
  },
  {
   "cell_type": "markdown",
   "metadata": {},
   "source": [
    "Note that the use of the 'specified' and 'functional' generic drift capabilities is\n",
    "essentially identical in the two-dimensional universal kriging class (except for a\n",
    "difference in the number of spatial coordinates for the passed drift functions).\n",
    "See UniversalKriging.__doc__ for more information.\n",
    "\n"
   ]
  },
  {
   "cell_type": "code",
   "execution_count": 6,
   "metadata": {
    "collapsed": false,
    "jupyter": {
     "outputs_hidden": false
    }
   },
   "outputs": [
    {
     "data": {
      "image/png": "[encoded data removed]",
      "text/plain": [
       "<Figure size 640x480 with 4 Axes>"
      ]
     },
     "metadata": {},
     "output_type": "display_data"
    }
   ],
   "source": [
    "fig, (ax1, ax2, ax3, ax4) = plt.subplots(4)\n",
    "ax1.imshow(k3d1[:, :, 0], origin=\"lower\")\n",
    "ax1.set_title(\"ordinary kriging\")\n",
    "ax2.imshow(k3d2[:, :, 0], origin=\"lower\")\n",
    "ax2.set_title(\"regional lin. drift\")\n",
    "ax3.imshow(k3d3[:, :, 0], origin=\"lower\")\n",
    "ax3.set_title(\"specified drift\")\n",
    "ax4.imshow(k3d4[:, :, 0], origin=\"lower\")\n",
    "ax4.set_title(\"functional drift\")\n",
    "plt.tight_layout()\n",
    "plt.show()"
   ]
  }
 ],
 "metadata": {
  "kernelspec": {
   "display_name": "Python 3 (ipykernel)",
   "language": "python",
   "name": "python3"
  },
  "language_info": {
   "codemirror_mode": {
    "name": "ipython",
    "version": 3
   },
   "file_extension": ".py",
   "mimetype": "text/x-python",
   "name": "python",
   "nbconvert_exporter": "python",
   "pygments_lexer": "ipython3",
   "version": "3.9.19"
  }
 },
 "nbformat": 4,
 "nbformat_minor": 4
}
