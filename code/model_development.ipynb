{
 "cells": [
  {
   "cell_type": "markdown",
   "id": "dda1bf90-e4b6-4d5d-8197-4f6d3d07125a",
   "metadata": {},
   "source": [
    "# Model Development\n",
    "\n",
    "In this notebook, we will develop a Kriging model using the `NYS Oil & Gas Wells` to predict optimal drilling locations for oil and gas in **New York State**. Using geological and production data, we will explore spatial interpolation techniques to accurately estimate potential production sites. The process will involve building the Kriging model and refining it through regularization and hyperparameter tuning.\n",
    "\n",
    "By the end of this notebook, we will have established a robust model ready for evaluation, aiming to identify the most effective approach for predicting where to drill for oil and gas."
   ]
  },
  {
   "cell_type": "code",
   "execution_count": null,
   "id": "2123f9fc-b647-402f-b683-da435173940f",
   "metadata": {},
   "outputs": [],
   "source": []
  }
 ],
 "metadata": {
  "kernelspec": {
   "display_name": "Python 3 (ipykernel)",
   "language": "python",
   "name": "python3"
  },
  "language_info": {
   "codemirror_mode": {
    "name": "ipython",
    "version": 3
   },
   "file_extension": ".py",
   "mimetype": "text/x-python",
   "name": "python",
   "nbconvert_exporter": "python",
   "pygments_lexer": "ipython3",
   "version": "3.9.19"
  }
 },
 "nbformat": 4,
 "nbformat_minor": 5
}
