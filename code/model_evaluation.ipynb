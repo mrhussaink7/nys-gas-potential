{
 "cells": [
  {
   "cell_type": "markdown",
   "id": "593bae1a-dfed-47b0-807d-119423fbc94c",
   "metadata": {},
   "source": [
    "# Model Evaluation\n",
    "\n",
    "In this notebook, we will evaluate the performance of our Kriging model for `NYS Oil & Gas Wells` dataset. We will assess the model’s accuracy and reliability using a range of spatial evaluation metrics. Our goal is to determine the most effective model for this task.\n",
    "\n",
    "By the end of this notebook, we will identify the strongest model for predicting where to drill for energy, providing valuable insights for further analysis and real-world application."
   ]
  }
 ],
 "metadata": {
  "kernelspec": {
   "display_name": "Python 3 (ipykernel)",
   "language": "python",
   "name": "python3"
  },
  "language_info": {
   "codemirror_mode": {
    "name": "ipython",
    "version": 3
   },
   "file_extension": ".py",
   "mimetype": "text/x-python",
   "name": "python",
   "nbconvert_exporter": "python",
   "pygments_lexer": "ipython3",
   "version": "3.9.19"
  }
 },
 "nbformat": 4,
 "nbformat_minor": 5
}
